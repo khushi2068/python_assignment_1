{
  "nbformat": 4,
  "nbformat_minor": 0,
  "metadata": {
    "colab": {
      "provenance": [],
      "authorship_tag": "ABX9TyPQcuYlfb+tVudHo1I7aTJ0",
      "include_colab_link": true
    },
    "kernelspec": {
      "name": "python3",
      "display_name": "Python 3"
    },
    "language_info": {
      "name": "python"
    }
  },
  "cells": [
    {
      "cell_type": "markdown",
      "metadata": {
        "id": "view-in-github",
        "colab_type": "text"
      },
      "source": [
        "<a href=\"https://colab.research.google.com/github/khushi2068/python_assignment_1/blob/main/Python_assignment1.ipynb\" target=\"_parent\"><img src=\"https://colab.research.google.com/assets/colab-badge.svg\" alt=\"Open In Colab\"/></a>"
      ]
    },
    {
      "cell_type": "markdown",
      "source": [
        "Q1. L is a list defined as L= [11, 12, 13, 14].\n",
        "(i) WAP to add 50 and 60 to L. \n",
        "(ii) WAP to remove 11 and 13from L.\n",
        "(iii) WAP to sort L in ascending order.\n",
        "(iv) WAP to sort L in descending order.\n",
        "(v) WAP to search for 13 in L.\n",
        "(vi) WAP to count the number of elements present in L.\n",
        "(vii) WAP to sum all the elements in L.\n",
        "(viii) WAP to sum all ODD numbers in L.\n",
        "(ix) WAP to sum all EVEN numbers in L.\n",
        "(x) WAP to sum all PRIME numbers in L.\n",
        "(xi) WAP to clear all the elements \n",
        "in L.\n",
        "(xii) WAP to delete L.\n"
      ],
      "metadata": {
        "id": "RLs7s4NBjimE"
      }
    },
    {
      "cell_type": "code",
      "execution_count": 25,
      "metadata": {
        "id": "eCdHlUn6jfxV"
      },
      "outputs": [],
      "source": [
        "L=[11,12,13,14]"
      ]
    },
    {
      "cell_type": "code",
      "source": [
        "L.append(50)\n",
        "L.append(60)"
      ],
      "metadata": {
        "id": "LtfrGEUrlJGH"
      },
      "execution_count": 26,
      "outputs": []
    },
    {
      "cell_type": "code",
      "source": [
        "L.remove(11)\n",
        "L.remove(13)"
      ],
      "metadata": {
        "id": "Y3U3TjTYlOv-"
      },
      "execution_count": 27,
      "outputs": []
    },
    {
      "cell_type": "code",
      "source": [
        "L.sort()"
      ],
      "metadata": {
        "id": "e_YvDJQmlpRh"
      },
      "execution_count": 28,
      "outputs": []
    },
    {
      "cell_type": "code",
      "source": [
        "L.sort(reverse=True)\n",
        "print(L)"
      ],
      "metadata": {
        "colab": {
          "base_uri": "https://localhost:8080/"
        },
        "id": "NgCtDLbHlrxW",
        "outputId": "47f2b14b-30b6-443b-9781-0769ba954d19"
      },
      "execution_count": 29,
      "outputs": [
        {
          "output_type": "stream",
          "name": "stdout",
          "text": [
            "[60, 50, 14, 12]\n"
          ]
        }
      ]
    },
    {
      "cell_type": "code",
      "source": [
        "if 13 in L:\n",
        "  print('yes')\n",
        "print('no')"
      ],
      "metadata": {
        "colab": {
          "base_uri": "https://localhost:8080/"
        },
        "id": "C7Zkr-ZIlykS",
        "outputId": "ea93e1dc-8972-4c8c-ca61-cb32bbc697b4"
      },
      "execution_count": 30,
      "outputs": [
        {
          "output_type": "stream",
          "name": "stdout",
          "text": [
            "no\n"
          ]
        }
      ]
    },
    {
      "cell_type": "code",
      "source": [
        "print(len(L))"
      ],
      "metadata": {
        "colab": {
          "base_uri": "https://localhost:8080/"
        },
        "id": "uqXT2uJxl6NC",
        "outputId": "4c50a8b8-598d-4b44-b534-b995253a1809"
      },
      "execution_count": 31,
      "outputs": [
        {
          "output_type": "stream",
          "name": "stdout",
          "text": [
            "4\n"
          ]
        }
      ]
    },
    {
      "cell_type": "code",
      "source": [
        "print(sum(L))"
      ],
      "metadata": {
        "colab": {
          "base_uri": "https://localhost:8080/"
        },
        "id": "_021xFi0l_Ae",
        "outputId": "7ca64730-c7ff-4fcf-afac-4207e153d607"
      },
      "execution_count": 32,
      "outputs": [
        {
          "output_type": "stream",
          "name": "stdout",
          "text": [
            "136\n"
          ]
        }
      ]
    },
    {
      "cell_type": "code",
      "source": [
        "sumodd=0\n",
        "for i in L:\n",
        "  if i%2!=0:\n",
        "    sumodd=sumodd+i\n",
        "print(sumodd)"
      ],
      "metadata": {
        "colab": {
          "base_uri": "https://localhost:8080/"
        },
        "id": "dyYY8n5GmCmv",
        "outputId": "acf18d22-d69c-4559-919d-2c534a648912"
      },
      "execution_count": 33,
      "outputs": [
        {
          "output_type": "stream",
          "name": "stdout",
          "text": [
            "0\n"
          ]
        }
      ]
    },
    {
      "cell_type": "code",
      "source": [
        "sumeven=0\n",
        "for i in L:\n",
        "  if i%2==0:\n",
        "    sumeven=sumeven+i\n",
        "print(sumeven)\n"
      ],
      "metadata": {
        "colab": {
          "base_uri": "https://localhost:8080/"
        },
        "id": "_f8f_PENmCjb",
        "outputId": "3abea382-f6f7-47f8-cc6e-142a88fccaeb"
      },
      "execution_count": 34,
      "outputs": [
        {
          "output_type": "stream",
          "name": "stdout",
          "text": [
            "136\n"
          ]
        }
      ]
    },
    {
      "cell_type": "code",
      "source": [
        "L=[11,12,13,14]\n",
        "sumprime=0\n",
        "for i in L:\n",
        "  flag=1\n",
        "  for num in range(2,i):\n",
        "    if i%num==0:\n",
        "      flag=0\n",
        "      break\n",
        "  if flag==1:\n",
        "    sumprime=sumprime+i\n",
        "    print(i, 'is prime')\n",
        "print(sumprime)"
      ],
      "metadata": {
        "colab": {
          "base_uri": "https://localhost:8080/"
        },
        "id": "e8ODv-PlmowN",
        "outputId": "108816ce-997c-40e1-9a47-b3733ed2bcdd"
      },
      "execution_count": 37,
      "outputs": [
        {
          "output_type": "stream",
          "name": "stdout",
          "text": [
            "11 is prime\n",
            "13 is prime\n",
            "24\n"
          ]
        }
      ]
    },
    {
      "cell_type": "code",
      "source": [
        "L.clear()\n",
        "print(L)"
      ],
      "metadata": {
        "colab": {
          "base_uri": "https://localhost:8080/"
        },
        "id": "vp5ysZhpnxbX",
        "outputId": "b7f1e2d3-dbea-4f03-a9bf-9fadfc618f5a"
      },
      "execution_count": 39,
      "outputs": [
        {
          "output_type": "stream",
          "name": "stdout",
          "text": [
            "[]\n"
          ]
        }
      ]
    },
    {
      "cell_type": "code",
      "source": [
        "del L"
      ],
      "metadata": {
        "id": "FbE4E7VvolaH"
      },
      "execution_count": 40,
      "outputs": []
    },
    {
      "cell_type": "code",
      "source": [
        "# print(L)"
      ],
      "metadata": {
        "id": "0DrqKe5qooOl"
      },
      "execution_count": 42,
      "outputs": []
    },
    {
      "cell_type": "markdown",
      "source": [
        "Q2. D is a dictionary defined as D= {1:5.6, 2:7.8, 3:6.6, 4:8.7, 5:7.7}.\n",
        "(i) WAP to add new entry in D; key=8 and value is 8.8\n",
        "(ii) WAP to remove key=2.\n",
        "(iii) WAP to check weather 6 key is present in D.\n",
        "(iv) WAP to count the number of elements present in D.\n",
        "(v) WAP to add all the values present D.\n",
        "(vi) WAP to update the value of 3 to 7.1.\n",
        "(vii) WAP to clear the dictionary\n",
        "\n",
        "\n",
        "\n"
      ],
      "metadata": {
        "id": "2JOyqEanoyNE"
      }
    },
    {
      "cell_type": "code",
      "source": [
        " D= {1:5.6, 2:7.8, 3:6.6, 4:8.7, 5:7.7}"
      ],
      "metadata": {
        "id": "o_4ScJXipCCd"
      },
      "execution_count": 43,
      "outputs": []
    },
    {
      "cell_type": "code",
      "source": [
        "D[8]=8.8\n",
        "print(D)"
      ],
      "metadata": {
        "colab": {
          "base_uri": "https://localhost:8080/"
        },
        "id": "E93B29yqpG9b",
        "outputId": "39985579-ff12-48b5-8c24-78ee308f7e7c"
      },
      "execution_count": 45,
      "outputs": [
        {
          "output_type": "stream",
          "name": "stdout",
          "text": [
            "{1: 5.6, 2: 7.8, 3: 6.6, 4: 8.7, 5: 7.7, 8: 8.8}\n"
          ]
        }
      ]
    },
    {
      "cell_type": "code",
      "source": [
        "del D[2]\n",
        "print(D)"
      ],
      "metadata": {
        "colab": {
          "base_uri": "https://localhost:8080/"
        },
        "id": "jev1ZY_ZpZUN",
        "outputId": "6bddf30d-aa45-433f-a007-07cc3f873df5"
      },
      "execution_count": 46,
      "outputs": [
        {
          "output_type": "stream",
          "name": "stdout",
          "text": [
            "{1: 5.6, 3: 6.6, 4: 8.7, 5: 7.7, 8: 8.8}\n"
          ]
        }
      ]
    },
    {
      "cell_type": "code",
      "source": [
        "if 6 in D.keys():\n",
        "  print('yes')"
      ],
      "metadata": {
        "id": "Q-JoxjlGplo6"
      },
      "execution_count": 47,
      "outputs": []
    },
    {
      "cell_type": "code",
      "source": [
        "print(len(D.keys()))"
      ],
      "metadata": {
        "colab": {
          "base_uri": "https://localhost:8080/"
        },
        "id": "nWLYszz_puIs",
        "outputId": "eaccb602-c623-4497-84e3-f968eda87adf"
      },
      "execution_count": 50,
      "outputs": [
        {
          "output_type": "stream",
          "name": "stdout",
          "text": [
            "5\n"
          ]
        }
      ]
    },
    {
      "cell_type": "code",
      "source": [
        "print(sum(D.values()))"
      ],
      "metadata": {
        "colab": {
          "base_uri": "https://localhost:8080/"
        },
        "id": "OLS7iX1Ep3gW",
        "outputId": "ea903e60-5886-46d3-9b44-be9ee8604135"
      },
      "execution_count": 51,
      "outputs": [
        {
          "output_type": "stream",
          "name": "stdout",
          "text": [
            "37.4\n"
          ]
        }
      ]
    },
    {
      "cell_type": "code",
      "source": [
        "D[3]=7.1\n",
        "print(D)"
      ],
      "metadata": {
        "colab": {
          "base_uri": "https://localhost:8080/"
        },
        "id": "5482_4bup_0P",
        "outputId": "9b8e9202-fcda-477e-f854-74b804dea053"
      },
      "execution_count": 52,
      "outputs": [
        {
          "output_type": "stream",
          "name": "stdout",
          "text": [
            "{1: 5.6, 3: 7.1, 4: 8.7, 5: 7.7, 8: 8.8}\n"
          ]
        }
      ]
    },
    {
      "cell_type": "code",
      "source": [
        "D.clear()\n",
        "print(D)"
      ],
      "metadata": {
        "colab": {
          "base_uri": "https://localhost:8080/"
        },
        "id": "6mlKWHVDqGaQ",
        "outputId": "7bcb19b6-1026-4ff6-fbba-aae85cc5558e"
      },
      "execution_count": 54,
      "outputs": [
        {
          "output_type": "stream",
          "name": "stdout",
          "text": [
            "{}\n"
          ]
        }
      ]
    },
    {
      "cell_type": "markdown",
      "source": [
        "1 is a set defined as S1= [10, 20, 30, 40, 50, 60].\n",
        " S2 is a set defined as S2= [40, 50, 60, 70, 80, 90].\n",
        "(i) WAP to add 55 and 66 in Set S1.\n",
        "(ii) WAP to remove 10 and 30 from Set S1.\n",
        "(iii) WAP to check whether 40 is present in S1.\n",
        "(iv) WAP to find the union between S1 and S2.\n",
        "(v) WAP to find the intersection between S1 and S2.\n",
        "(vi) WAP to find the S1 - S2."
      ],
      "metadata": {
        "id": "9HBJjxXnqa2v"
      }
    },
    {
      "cell_type": "code",
      "source": [
        "S1= {10, 20, 30, 40, 50, 60}\n",
        "S2= {40, 50, 60, 70, 80, 90}\n",
        "S1.add(55)\n",
        "S1.add(66)\n",
        "print(S1)"
      ],
      "metadata": {
        "colab": {
          "base_uri": "https://localhost:8080/"
        },
        "id": "TE4UPxzeqWL5",
        "outputId": "da50ce76-7258-439c-b5a6-456311855964"
      },
      "execution_count": 55,
      "outputs": [
        {
          "output_type": "stream",
          "name": "stdout",
          "text": [
            "{50, 66, 20, 55, 40, 10, 60, 30}\n"
          ]
        }
      ]
    },
    {
      "cell_type": "code",
      "source": [
        "S1.discard(10)\n",
        "S1.discard(30)\n",
        "print(S1)"
      ],
      "metadata": {
        "colab": {
          "base_uri": "https://localhost:8080/"
        },
        "id": "w12qbvTzq7As",
        "outputId": "97aa43c0-03a8-418a-9f18-9fa6d357945a"
      },
      "execution_count": 58,
      "outputs": [
        {
          "output_type": "stream",
          "name": "stdout",
          "text": [
            "{50, 66, 20, 55, 40, 60}\n"
          ]
        }
      ]
    },
    {
      "cell_type": "code",
      "source": [
        "if 40 in S1:\n",
        "  print('yes')"
      ],
      "metadata": {
        "colab": {
          "base_uri": "https://localhost:8080/"
        },
        "id": "9cjXAGEIrf88",
        "outputId": "29965374-d7a2-48da-8b4c-182bd3afb5cf"
      },
      "execution_count": 59,
      "outputs": [
        {
          "output_type": "stream",
          "name": "stdout",
          "text": [
            "yes\n"
          ]
        }
      ]
    },
    {
      "cell_type": "code",
      "source": [
        "print(S1.union(S2))"
      ],
      "metadata": {
        "colab": {
          "base_uri": "https://localhost:8080/"
        },
        "id": "lPTjT-drrlP6",
        "outputId": "bb3ac26a-4cf0-4a7b-b1e3-8d6307c2e97a"
      },
      "execution_count": 60,
      "outputs": [
        {
          "output_type": "stream",
          "name": "stdout",
          "text": [
            "{66, 70, 40, 80, 50, 20, 55, 90, 60}\n"
          ]
        }
      ]
    },
    {
      "cell_type": "code",
      "source": [
        "for i in S1:\n",
        "  if i in S2:\n",
        "    print(i,end=' ')"
      ],
      "metadata": {
        "colab": {
          "base_uri": "https://localhost:8080/"
        },
        "id": "knHKI5Wtrp8z",
        "outputId": "d2d369ed-87c3-40a2-fd16-70bb587cfde4"
      },
      "execution_count": 79,
      "outputs": [
        {
          "output_type": "stream",
          "name": "stdout",
          "text": [
            "50 40 60 "
          ]
        }
      ]
    },
    {
      "cell_type": "code",
      "source": [
        "S1.intersection(S2)"
      ],
      "metadata": {
        "colab": {
          "base_uri": "https://localhost:8080/"
        },
        "id": "cmw34rGwr0aY",
        "outputId": "1374fa45-40e5-47c5-9acd-f4af6e768772"
      },
      "execution_count": 62,
      "outputs": [
        {
          "output_type": "execute_result",
          "data": {
            "text/plain": [
              "{40, 50, 60}"
            ]
          },
          "metadata": {},
          "execution_count": 62
        }
      ]
    },
    {
      "cell_type": "code",
      "source": [
        "print(S1-S2)"
      ],
      "metadata": {
        "colab": {
          "base_uri": "https://localhost:8080/"
        },
        "id": "hTD7qbzOr7UN",
        "outputId": "3269aa7e-e936-4830-d19a-59bd53f2c536"
      },
      "execution_count": 63,
      "outputs": [
        {
          "output_type": "stream",
          "name": "stdout",
          "text": [
            "{66, 20, 55}\n"
          ]
        }
      ]
    },
    {
      "cell_type": "markdown",
      "source": [
        "Q4. Write the following program.\n",
        "(i) WAP to print 100 random strings whose length between 6 and 8.\n",
        "(ii) WAP to print all prime numbers between 600 and 800.\n",
        "(iii) WAP to print all numbers between 100 and 1000 that are divisible by 7 and 9.\n"
      ],
      "metadata": {
        "id": "LtmxX8YwsD1J"
      }
    },
    {
      "cell_type": "code",
      "source": [
        "import random as r\n",
        "import string as s\n",
        "for i in range(1,101):\n",
        "  l=r.randint(6,8)\n",
        "  rand_string=r.sample(s.ascii_letters,l)\n",
        "  print(''.join(rand_string),end=' ')\n",
        "\n",
        "\n"
      ],
      "metadata": {
        "colab": {
          "base_uri": "https://localhost:8080/"
        },
        "id": "37M720qJsKmA",
        "outputId": "6687d4b9-08d7-4df9-9a2f-b84797218f5e"
      },
      "execution_count": 78,
      "outputs": [
        {
          "output_type": "stream",
          "name": "stdout",
          "text": [
            "letjTf HmROsQ QCbBUlMi wHYmghnP yWiuxmv efPGNm hBraxS BCzKZqR RfoEghD FgxZbat KpircCa jdcxDKm WpRKVfFJ THYArP WVbqFuHc eAvcHfgz udNzTglV pdrsAg VjbQHqL TWXIbu oCqRgw RpdHzuJ mdXjpV iKpwAyVg nyPBbK yjhDPBWQ hCarLV SGBjId wPdyMm oOIVwyuL wVvPJQ VdbEtfTj okITxC ocTGPHg rihvTyj ZsYGqW vAfSZtD HaJLxKi hcCgvuw IpgxAZK CapdmKS zjPCwQEu LVaDBkl otLHcXD grakuOoM OmhoXsz dYTIDs NHYCWyxv zqdocWuO baFrejMx hvuFxGH tHMjZyGl orODuZl gNRFtPC xpLCGSEP JuFlmai IdwUgqn TaCvhQuf tnCDWO yBgJFY JPIlxe pFfvHrMP FCqdrOA ZMDQSj MxZLWdfz DEwrIj xEjSMNg xzAEHh MTvzay SpcwQWLV eUntRWE DZoFEeNi gtVQAvML SsZVdTy RSiNWdV pOeYduH pazsMJ WDrmzJ PNSOVCBf IMEbltzn fMGNHx jRcySTOV LrBQIE bfEGtr JYWfZcX ySxDAtf uDzZOYg kcVlzmxr UnudYjvz yEDjWCBx LMhtTuH RHOoPk RHwSTY wCUZgs COWRBpA tzUZHyOs pLhJTgo dUSLHqN TSfpvBWi geKfVAj "
          ]
        }
      ]
    },
    {
      "cell_type": "code",
      "source": [
        "for num in range(600, 801):\n",
        "    if all(num % i != 0 for i in range(2, (num//2) + 1)):\n",
        "        print(num,end=' , ')"
      ],
      "metadata": {
        "colab": {
          "base_uri": "https://localhost:8080/"
        },
        "id": "3horGQVNxYGX",
        "outputId": "f8fee57b-6f37-434a-8137-7d161fc9fcf4"
      },
      "execution_count": 77,
      "outputs": [
        {
          "output_type": "stream",
          "name": "stdout",
          "text": [
            "601 , 607 , 613 , 617 , 619 , 631 , 641 , 643 , 647 , 653 , 659 , 661 , 673 , 677 , 683 , 691 , 701 , 709 , 719 , 727 , 733 , 739 , 743 , 751 , 757 , 761 , 769 , 773 , 787 , 797 , "
          ]
        }
      ]
    },
    {
      "cell_type": "code",
      "source": [
        "for num in range(100, 1001):\n",
        "    if num % 7 == 0 and num % 9 == 0:\n",
        "        print(num,end=' | ')"
      ],
      "metadata": {
        "colab": {
          "base_uri": "https://localhost:8080/"
        },
        "id": "zBRG7c64xkM1",
        "outputId": "bb45ff16-536a-42ba-a11c-8a4c6416414f"
      },
      "execution_count": 76,
      "outputs": [
        {
          "output_type": "stream",
          "name": "stdout",
          "text": [
            "126 | 189 | 252 | 315 | 378 | 441 | 504 | 567 | 630 | 693 | 756 | 819 | 882 | 945 | "
          ]
        }
      ]
    },
    {
      "cell_type": "markdown",
      "source": [
        "5. WAP to create two lists of 10 random numbers between 10 and 30; Find \n",
        "(i) Common numbers in the two lists\n",
        "(ii) Unique numbers in both the list\n",
        "(iii) Minimum in both the list\n",
        "(iv) Maximum in both the list\n",
        "(v) Sum of both the lists"
      ],
      "metadata": {
        "id": "n-oeVZcuyfaG"
      }
    },
    {
      "cell_type": "code",
      "source": [
        "import random as r\n",
        "import string as s\n",
        "r1=r.sample(range(10,30),10)\n",
        "r2=r.sample(range(10,30),10)\n",
        "print(r1)\n",
        "print(r2)\n"
      ],
      "metadata": {
        "colab": {
          "base_uri": "https://localhost:8080/"
        },
        "id": "q9-28DZSyO4l",
        "outputId": "e6158216-292f-4740-9826-6de94796be6f"
      },
      "execution_count": 81,
      "outputs": [
        {
          "output_type": "stream",
          "name": "stdout",
          "text": [
            "[11, 21, 19, 13, 14, 23, 22, 26, 10, 20]\n",
            "[16, 28, 25, 23, 10, 22, 18, 17, 27, 13]\n"
          ]
        }
      ]
    },
    {
      "cell_type": "code",
      "source": [
        "for i in r1:\n",
        "  if i in r2:\n",
        "    print(i,end=' ')"
      ],
      "metadata": {
        "colab": {
          "base_uri": "https://localhost:8080/"
        },
        "id": "l1OM-ngwzHpU",
        "outputId": "8d4b25f3-31a4-424d-f427-3c2734bf8171"
      },
      "execution_count": 82,
      "outputs": [
        {
          "output_type": "stream",
          "name": "stdout",
          "text": [
            "13 23 22 10 "
          ]
        }
      ]
    },
    {
      "cell_type": "code",
      "source": [
        "for i in r1:\n",
        "  if i not in r2:\n",
        "    print(i,end=' ')"
      ],
      "metadata": {
        "colab": {
          "base_uri": "https://localhost:8080/"
        },
        "id": "_GH9gccGzr0_",
        "outputId": "934302f0-e04e-4ac1-9d1f-df298ddfd588"
      },
      "execution_count": 83,
      "outputs": [
        {
          "output_type": "stream",
          "name": "stdout",
          "text": [
            "11 21 19 14 26 20 "
          ]
        }
      ]
    },
    {
      "cell_type": "code",
      "source": [
        "print(min(min(r1),min(r2)))\n"
      ],
      "metadata": {
        "colab": {
          "base_uri": "https://localhost:8080/"
        },
        "id": "462YxFuyzxPd",
        "outputId": "ac4377b7-d428-4d79-b3a4-f2793f24ffd0"
      },
      "execution_count": 86,
      "outputs": [
        {
          "output_type": "stream",
          "name": "stdout",
          "text": [
            "10\n"
          ]
        }
      ]
    },
    {
      "cell_type": "code",
      "source": [
        "print(max(max(r1),max(r2)))"
      ],
      "metadata": {
        "colab": {
          "base_uri": "https://localhost:8080/"
        },
        "id": "rT2r0oO50OEM",
        "outputId": "b5cd6092-4db5-458c-bfd7-344b91d8c273"
      },
      "execution_count": 87,
      "outputs": [
        {
          "output_type": "stream",
          "name": "stdout",
          "text": [
            "28\n"
          ]
        }
      ]
    },
    {
      "cell_type": "code",
      "source": [
        "print(sum(r1)+sum(r2))"
      ],
      "metadata": {
        "colab": {
          "base_uri": "https://localhost:8080/"
        },
        "id": "I6agOA7j0WPA",
        "outputId": "fbc1cfef-4bf4-44d2-cdab-19fec6e42834"
      },
      "execution_count": 88,
      "outputs": [
        {
          "output_type": "stream",
          "name": "stdout",
          "text": [
            "378\n"
          ]
        }
      ]
    },
    {
      "cell_type": "markdown",
      "source": [
        "Q6. WAP to create a list of 100 random numbers between 100 and 900. Count and print the: \n",
        "(i) All odd numbers\n",
        "(ii) All even numbers\n",
        "(iii) All prime numbers"
      ],
      "metadata": {
        "id": "nPPGfrgY06Qk"
      }
    },
    {
      "cell_type": "code",
      "source": [
        "rr=r.sample(range(100,900),100)\n",
        "print(rr)\n"
      ],
      "metadata": {
        "colab": {
          "base_uri": "https://localhost:8080/"
        },
        "id": "ipYDyJn10kh5",
        "outputId": "8666fdb5-a76b-43e3-e8fc-cd4fc8134c33"
      },
      "execution_count": 89,
      "outputs": [
        {
          "output_type": "stream",
          "name": "stdout",
          "text": [
            "[359, 496, 186, 721, 463, 287, 570, 431, 293, 664, 345, 312, 776, 375, 407, 342, 683, 811, 867, 368, 188, 126, 727, 265, 764, 729, 891, 460, 677, 784, 897, 203, 880, 851, 202, 733, 374, 814, 418, 304, 221, 330, 849, 223, 441, 514, 613, 812, 403, 782, 326, 543, 302, 239, 478, 868, 215, 826, 437, 822, 786, 625, 558, 253, 319, 227, 569, 274, 628, 125, 756, 308, 462, 240, 865, 149, 105, 185, 508, 879, 701, 316, 314, 195, 184, 341, 242, 362, 329, 696, 783, 234, 402, 139, 382, 360, 309, 269, 716, 158]\n"
          ]
        }
      ]
    },
    {
      "cell_type": "code",
      "source": [
        "oddrr=[i for i in rr if i%2!=0]\n",
        "print(oddrr)\n",
        "print(len(oddrr))"
      ],
      "metadata": {
        "colab": {
          "base_uri": "https://localhost:8080/"
        },
        "id": "mikdO8Ip2SfO",
        "outputId": "6fce8b2a-e5b9-448a-dfa4-d69a4dad4e6d"
      },
      "execution_count": 94,
      "outputs": [
        {
          "output_type": "stream",
          "name": "stdout",
          "text": [
            "[359, 721, 463, 287, 431, 293, 345, 375, 407, 683, 811, 867, 727, 265, 729, 891, 677, 897, 203, 851, 733, 221, 849, 223, 441, 613, 403, 543, 239, 215, 437, 625, 253, 319, 227, 569, 125, 865, 149, 105, 185, 879, 701, 195, 341, 329, 783, 139, 309, 269]\n",
            "50\n"
          ]
        }
      ]
    },
    {
      "cell_type": "code",
      "source": [
        "evenrr=[i for i in rr if i%2==0]\n",
        "print(evenrr)\n",
        "print(len(evenrr))"
      ],
      "metadata": {
        "colab": {
          "base_uri": "https://localhost:8080/"
        },
        "id": "rAstRGn23HWU",
        "outputId": "5b337e90-bda8-46c1-b1de-43facee7b61c"
      },
      "execution_count": 95,
      "outputs": [
        {
          "output_type": "stream",
          "name": "stdout",
          "text": [
            "[496, 186, 570, 664, 312, 776, 342, 368, 188, 126, 764, 460, 784, 880, 202, 374, 814, 418, 304, 330, 514, 812, 782, 326, 302, 478, 868, 826, 822, 786, 558, 274, 628, 756, 308, 462, 240, 508, 316, 314, 184, 242, 362, 696, 234, 402, 382, 360, 716, 158]\n",
            "50\n"
          ]
        }
      ]
    },
    {
      "cell_type": "code",
      "source": [
        "primerr=[]\n",
        "for i in rr:\n",
        "  flag=1\n",
        "  for num in range(2,i):\n",
        "    if int(i)%num==0:\n",
        "      flag=0\n",
        "      break\n",
        "       \n",
        "     \n",
        "  if flag==1:\n",
        "    primerr.append(i)\n",
        "print(primerr)\n"
      ],
      "metadata": {
        "colab": {
          "base_uri": "https://localhost:8080/"
        },
        "id": "5838PINh6ocQ",
        "outputId": "cd821266-6093-4864-b759-373bd0ffcbce"
      },
      "execution_count": 106,
      "outputs": [
        {
          "output_type": "stream",
          "name": "stdout",
          "text": [
            "[359, 463, 431, 293, 683, 811, 727, 677, 733, 223, 613, 239, 227, 569, 149, 701, 139, 269]\n"
          ]
        }
      ]
    },
    {
      "cell_type": "code",
      "source": [
        "primerr = []\n",
        "for i in rr:\n",
        "    flag = 1\n",
        "    for num in range(2, int(i**0.5) + 1):\n",
        "        if i % num == 0:\n",
        "            flag = 0\n",
        "            break\n",
        "    if flag == 1:\n",
        "        primerr.append(i)\n",
        "\n",
        "print(primerr)"
      ],
      "metadata": {
        "colab": {
          "base_uri": "https://localhost:8080/"
        },
        "id": "kHzxbi2q70Ef",
        "outputId": "6e4288b4-355e-4d59-b6fa-46e5cbcae930"
      },
      "execution_count": 105,
      "outputs": [
        {
          "output_type": "stream",
          "name": "stdout",
          "text": [
            "[359, 463, 431, 293, 683, 811, 727, 677, 733, 223, 613, 239, 227, 569, 149, 701, 139, 269]\n"
          ]
        }
      ]
    },
    {
      "cell_type": "markdown",
      "source": [
        " WAP to calculate the time taken by a program."
      ],
      "metadata": {
        "id": "XFauK9aK8UhA"
      }
    },
    {
      "cell_type": "code",
      "source": [
        "import time as t\n",
        "s_time=t.time()\n",
        "print('hello world')\n",
        "e_time=t.time()\n",
        "t_time=e_time-s_time\n",
        "print(t_time)"
      ],
      "metadata": {
        "colab": {
          "base_uri": "https://localhost:8080/"
        },
        "id": "LEIb0zXG8WT9",
        "outputId": "a60bb298-3ef2-4d1c-e311-e808b9a70727"
      },
      "execution_count": 116,
      "outputs": [
        {
          "output_type": "stream",
          "name": "stdout",
          "text": [
            "hello world\n",
            "0.0017902851104736328\n"
          ]
        }
      ]
    },
    {
      "cell_type": "markdown",
      "source": [
        " WAP to create a dictionary of student marks in five subjects and you have to find the student \n",
        " having maximum and minimum average marks"
      ],
      "metadata": {
        "id": "NCMIUwbiQM24"
      }
    },
    {
      "cell_type": "code",
      "source": [
        "student_marks={\n",
        "    'ram':[20,90,46,74,98],\n",
        "    'sez':[20,50,59,74,98],\n",
        "    'mannat':[20,76,46,74,98],\n",
        "    'sam':[69,50,46,69,98],\n",
        "    'pranav':[95,50,46,74,98]\n",
        "\n",
        "}\n",
        "\n",
        "avg_marks={}\n",
        "max_marks=0\n",
        "min_marks=10000\n",
        "for student,marks in student_marks.items():\n",
        "  avg_marks[student]=sum(marks)/len(marks)\n",
        "  # if avg_marks[student]>max_marks:\n",
        "  #  max_marks=avg_marks[student]\n",
        "  #  max_stu=student\n",
        "  # if avg_marks[student]<min_marks:\n",
        "  #  min_marks=avg_marks[student]\n",
        "  #  min_stu=student\n",
        "\n",
        "\n",
        "# print(max_stu)\n",
        "# print(min_stu)\n",
        "\n",
        "max_student=max(avg_marks,key=avg_marks.get)\n",
        "print(max_student)"
      ],
      "metadata": {
        "colab": {
          "base_uri": "https://localhost:8080/"
        },
        "id": "ImSo84xm-GTt",
        "outputId": "29f996d1-ad75-4721-cdb5-1da814eb27cf"
      },
      "execution_count": 25,
      "outputs": [
        {
          "output_type": "stream",
          "name": "stdout",
          "text": [
            "pranav\n"
          ]
        }
      ]
    },
    {
      "cell_type": "markdown",
      "source": [
        "WAP to sort following number of elements in a list, calculate time taken and plot the graph. \n",
        "Number of elements in list Time Taken\n",
        "![Screenshot 2023-06-07 201408.png](data:image/png;base64,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)"
      ],
      "metadata": {
        "id": "Ca4snxv6UDcR"
      }
    },
    {
      "cell_type": "code",
      "source": [
        "import random as r\n",
        "import time as t\n",
        "import matplotlib.pyplot as plt\n",
        "\n",
        "L=[5000,10000,15000,20000,25000]\n",
        "T=[]\n",
        "for i in L:\n",
        "  temp=r.sample(range(1,26000),i)\n",
        "  print(len(temp))\n",
        "  t1=t.time()\n",
        "  temp.sort()\n",
        "  t2=t.time()\n",
        "  t3=t2-t1\n",
        "  T.append(t3)\n",
        "\n",
        "print(T)\n",
        "plt.plot(L,T)\n",
        "\n"
      ],
      "metadata": {
        "colab": {
          "base_uri": "https://localhost:8080/",
          "height": 551
        },
        "id": "KDM7RuoSUGbj",
        "outputId": "529186d0-9d80-405f-991a-2afecad3388b"
      },
      "execution_count": 21,
      "outputs": [
        {
          "output_type": "stream",
          "name": "stdout",
          "text": [
            "5000\n",
            "10000\n",
            "15000\n",
            "20000\n",
            "25000\n",
            "[0.0007405281066894531, 0.0016834735870361328, 0.002671480178833008, 0.0037164688110351562, 0.00486302375793457]\n"
          ]
        },
        {
          "output_type": "execute_result",
          "data": {
            "text/plain": [
              "[<matplotlib.lines.Line2D at 0x7f57166d0cd0>]"
            ]
          },
          "metadata": {},
          "execution_count": 21
        },
        {
          "output_type": "display_data",
          "data": {
            "text/plain": [
              "<Figure size 640x480 with 1 Axes>"
            ],
            "image/png": "[encoded data removed]"
          },
          "metadata": {}
        }
      ]
    },
    {
      "cell_type": "markdown",
      "source": [
        "Find all the subsets from a set of numbers whose sum is zero.\n",
        "Constraint: Subset size must be 5\n",
        "Set={-12, -3, -6, 7, 2, -2, 6, 3, 9, -7, -5, -8, 1, 11, -9, -4}\n"
      ],
      "metadata": {
        "id": "BzxA8WVROwY3"
      }
    },
    {
      "cell_type": "code",
      "source": [
        "import random as r\n",
        "s={-12, -3, -6, 7, 2, -2, 6, 3, 9, -7, -5, -8, 1, 11, -9, -4}\n",
        "subsets=set()\n",
        "while(len(subsets)<100):\n",
        " subset=r.sample(s,5)\n",
        "#  print(subset)\n",
        " if sum(subset)==0:\n",
        "  subsets.add(tuple(subset))\n",
        "\n",
        "print(subsets)\n",
        "\n"
      ],
      "metadata": {
        "colab": {
          "base_uri": "https://localhost:8080/"
        },
        "id": "ZYVhwlmlOxst",
        "outputId": "d3e18635-98a5-4513-d16d-51c0c038f2b0"
      },
      "execution_count": 136,
      "outputs": [
        {
          "output_type": "stream",
          "name": "stdout",
          "text": [
            "{(1, -4, -6, 3, 6), (7, 9, -2, -5, -9), (-8, 11, 9, -3, -9), (2, 9, -4, -5, -2), (1, 9, -12, -9, 11), (2, -4, -2, 1, 3), (-2, -3, 6, -8, 7), (6, -12, 1, 2, 3), (-5, 2, 6, -12, 9), (-12, 9, 1, -5, 7), (-12, 3, -3, 11, 1), (-3, -7, 11, -2, 1), (-7, 3, -2, 11, -5), (-7, -9, 11, -4, 9), (-3, 1, 2, -6, 6), (7, -6, -12, 2, 9), (6, -6, -4, 3, 1), (-6, 3, 2, 9, -8), (1, -7, -5, 9, 2), (9, -2, 6, -7, -6), (-3, -5, 3, -4, 9), (3, -7, -4, 2, 6), (2, 1, 9, -3, -9), (7, 2, -7, 6, -8), (-9, -2, 11, 7, -7), (1, 6, 2, -4, -5), (3, -3, 7, 2, -9), (-4, -3, -2, 7, 2), (-5, 2, 1, -7, 9), (-3, -4, 3, 6, -2), (3, -7, -3, 9, -2), (-7, 11, 6, -2, -8), (7, -4, -3, 2, -2), (-6, 3, 1, -5, 7), (-2, 7, -3, -4, 2), (2, 1, -3, 6, -6), (7, -7, 2, -5, 3), (7, -2, -6, 6, -5), (-6, 2, -3, 11, -4), (-3, -5, -4, 11, 1), (-8, -4, -6, 11, 7), (-8, -6, 9, -2, 7), (-3, 2, 7, -2, -4), (-5, 9, -8, 1, 3), (9, -3, -9, -4, 7), (-3, -7, 7, 11, -8), (9, -6, -2, -4, 3), (7, 9, -2, -9, -5), (6, 2, -7, -2, 1), (-8, 6, 3, -12, 11), (-3, -7, 11, 3, -4), (-12, 11, 7, -7, 1), (-3, 11, -5, -12, 9), (3, -2, 6, -3, -4), (2, 11, -6, -8, 1), (-6, -3, 6, 7, -4), (-8, 6, 9, -9, 2), (11, 2, -6, -4, -3), (-2, -12, 2, 1, 11), (7, -5, -12, 9, 1), (6, 9, 2, -5, -12), (11, -4, -3, 3, -7), (9, -7, -3, 7, -6), (-4, 3, 6, -6, 1), (-8, -7, -2, 11, 6), (-6, 1, 2, 6, -3), (-6, -2, -12, 9, 11), (-12, 7, -8, 11, 2), (-5, -7, 3, 11, -2), (11, 1, -12, 3, -3), (7, 6, -3, -12, 2), (3, 1, 2, -4, -2), (-2, -12, 1, 2, 11), (2, -9, 6, -6, 7), (2, 1, -4, 3, -2), (-5, -9, 6, 7, 1), (2, -3, 1, -9, 9), (7, 3, -2, -5, -3), (3, 1, 7, -6, -5), (-9, 3, 7, -3, 2), (-3, -2, -5, 9, 1), (-3, -9, 11, -8, 9), (-7, 11, 3, -9, 2), (-2, 6, 3, -9, 2), (-3, 1, -5, -2, 9), (-5, -8, 9, 6, -2), (3, 1, 11, -8, -7), (-6, 3, -12, 9, 6), (7, 2, -8, 1, -2), (-2, -4, -8, 11, 3), (-12, 9, 7, -6, 2), (-7, 2, -3, 1, 7), (-3, 2, 1, -7, 7), (11, -2, 7, -9, -7), (-3, 7, -7, 1, 2), (9, -5, 6, -12, 2), (3, -7, 6, -3, 1), (11, -9, -7, -4, 9), (11, -4, -5, 7, -9), (-9, -4, 1, 3, 9)}\n"
          ]
        },
        {
          "output_type": "stream",
          "name": "stderr",
          "text": [
            "<ipython-input-136-a8279952c760>:5: DeprecationWarning: Sampling from a set deprecated\n",
            "since Python 3.9 and will be removed in a subsequent version.\n",
            "  subset=r.sample(s,5)\n"
          ]
        }
      ]
    },
    {
      "cell_type": "markdown",
      "source": [],
      "metadata": {
        "id": "_xiKPQSVQFLi"
      }
    },
    {
      "cell_type": "code",
      "source": [],
      "metadata": {
        "id": "OxMTzmgUTkLU"
      },
      "execution_count": null,
      "outputs": []
    },
    {
      "cell_type": "markdown",
      "source": [],
      "metadata": {
        "id": "kbKX5VaRTJqO"
      }
    }
  ]
}